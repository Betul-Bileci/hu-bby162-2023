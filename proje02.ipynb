{
  "nbformat": 4,
  "nbformat_minor": 0,
  "metadata": {
    "colab": {
      "provenance": [],
      "authorship_tag": "ABX9TyOhCfM5jUZve8KLGHrgEth+",
      "include_colab_link": true
    },
    "kernelspec": {
      "name": "python3",
      "display_name": "Python 3"
    },
    "language_info": {
      "name": "python"
    }
  },
  "cells": [
    {
      "cell_type": "markdown",
      "metadata": {
        "id": "view-in-github",
        "colab_type": "text"
      },
      "source": [
        "<a href=\"https://colab.research.google.com/github/Betul-Bileci/hu-bby162-2023/blob/main/proje02.ipynb\" target=\"_parent\"><img src=\"https://colab.research.google.com/assets/colab-badge.svg\" alt=\"Open In Colab\"/></a>"
      ]
    },
    {
      "cell_type": "code",
      "execution_count": null,
      "metadata": {
        "id": "0BjZH7iilpF-"
      },
      "outputs": [],
      "source": [
        "#proje2 için adam asmaca oyunu oluşturuyorum\n",
        "from random import choice\n",
        "\n",
        "#öncelikle seviyeyi seçelim\n",
        "def seviyeSec():\n",
        "    while True:\n",
        "        print(\" Basit\")\n",
        "        print(\" Orta\")\n",
        "        print(\" İleri\")\n",
        "\n",
        "        secilenSeviye = input(\"oynayacağınız seviyeyi seçin: \")\n",
        "\n",
        "#seçilen seviyeye göre canları tanımlıyorum\n",
        "        if secilenSeviye == \"Basit\":\n",
        "            adamCan = 5\n",
        "            return adamCan\n",
        "        elif secilenSeviye == \"Orta\":\n",
        "            adamCan = 3\n",
        "            return adamCan\n",
        "        elif secilenSeviye == \"İleri\":\n",
        "            adamCan = 1\n",
        "            return adamCan\n",
        "        else:\n",
        "            print(\"Lütfen geçerli değer giriniz\")\n",
        "            continue\n",
        "\n",
        "\n",
        "while True:\n",
        "    adamCan=seviyeSec()\n",
        "    \n",
        "   #oyun için birkaç kelime tanımlayalım\n",
        "    kelimeler = [\"yaz\", \"tatil\", \"deniz\", \"yazlık\",\"gözlük\",\"güneş kremi\"]\n",
        "    secilenKelime = choice(kelimeler)\n",
        "    \n",
        "    #print(secilenKelime)\n",
        "    dizilenKelime = []\n",
        "    for diz in secilenKelime:\n",
        "        dizilenKelime.append(\"_\")\n",
        "    print(dizilenKelime)\n",
        "\n",
        "   #harf girme hakkı sıfırsan büyükse  \n",
        "    while adamCan > 0:\n",
        "        girilenHarf = input(\"Bir harf giriniz: \")\n",
        "        canKontrol = girilenHarf in secilenKelime\n",
        "        if canKontrol == False:\n",
        "            adamCan-=1\n",
        "        i = 0\n",
        "        for kontrol in secilenKelime:\n",
        "            if secilenKelime[i] == girilenHarf:\n",
        "                dizilenKelime[i] = girilenHarf\n",
        "            i+=1\n",
        "        print(dizilenKelime)\n",
        "        print(\"Kalan can: \"+ str(adamCan))\n",
        "        \n",
        "        #kelimedeki bütün harfleri bulup oyunu tamamladıysak\n",
        "        if \"_\" not in dizilenKelime:\n",
        "                print(\"Tebrikler! Kelimeyi buldunuz.\")\n",
        "                break\n",
        "\n",
        "         #tekrar oynama hakkı   \n",
        "    tekrarOyna=input(\"Tekrar oynamak ister misiniz? (evet/hayır)\")\n",
        "    if tekrarOyna == \"evet\":\n",
        "        continue\n",
        "    #oyun sonu \n",
        "    else:\n",
        "        print(\"Oyun bitti\")\n",
        "        break"
      ]
    }
  ]
}