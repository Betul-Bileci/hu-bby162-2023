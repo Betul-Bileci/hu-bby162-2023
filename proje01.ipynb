{
  "cells": [
    {
      "cell_type": "markdown",
      "metadata": {
        "id": "view-in-github",
        "colab_type": "text"
      },
      "source": [
        "<a href=\"https://colab.research.google.com/github/Betul-Bileci/hu-bby162-2023/blob/main/proje01.ipynb\" target=\"_parent\"><img src=\"https://colab.research.google.com/assets/colab-badge.svg\" alt=\"Open In Colab\"/></a>"
      ]
    },
    {
      "cell_type": "code",
      "execution_count": 2,
      "metadata": {
        "colab": {
          "base_uri": "https://localhost:8080/"
        },
        "id": "Fi46SKcUvyCi",
        "outputId": "972c2c28-b539-42f1-802e-53330c0f012c"
      },
      "outputs": [
        {
          "name": "stdout",
          "output_type": "stream",
          "text": [
            "[\"The Emperor's New School(2006)\", 'The Suite Life On Deck(2011)', 'So Random(2012)']\n",
            "[\"The Emperor's New School(2006)\", 'The Suite Life On Deck(2011)', 'So Random(2012)', 'Riverdale']\n",
            "[\"The Emperor's New School(2006)\", 'The Suite Life On Deck(2011)', 'So Random(2012)']\n",
            "[]\n",
            " İzlenen yeni diziyi ekle: mad tv\n"
          ]
        }
      ],
      "source": [
        "#proje1 için izlediğim Cole Sprouse dizilerini listelemeye karar verdim. \n",
        "\n",
        "coleSprouse = [\"The Emperor's New School(2006)\", \"The Suite Life On Deck(2011)\", \"So Random(2012)\"]\n",
        "print(coleSprouse)\n",
        "\n",
        "#izlediğim diğer bir diziyi de ekliyorum\n",
        "coleSprouse += [\"Riverdale\"]\n",
        "print(coleSprouse)\n",
        "\n",
        "\n",
        "#dizilerden birini siliyorum\n",
        "coleSprouse[3:]=[]\n",
        "print(coleSprouse)\n",
        "\n",
        "#dizilerin tamamını siliyorum\n",
        "coleSprouse[:]=[]\n",
        "print(coleSprouse)\n",
        "\n",
        "#listeyi güncellenebilir hale getiriyorum\n",
        "yeniEkle = input(\" İzlenen yeni diziyi ekle: \")\n",
        "coleSprouse.append(yeniEkle)\n",
        "\n",
        "\n",
        "\n",
        "\n",
        "\n",
        "\n"
      ]
    },
    {
      "cell_type": "code",
      "execution_count": null,
      "metadata": {
        "id": "1jMekK19_yDr"
      },
      "outputs": [],
      "source": []
    }
  ],
  "metadata": {
    "colab": {
      "provenance": [],
      "authorship_tag": "ABX9TyOQGYQpK9W8p7jzc/ZQtf/f",
      "include_colab_link": true
    },
    "kernelspec": {
      "display_name": "Python 3",
      "name": "python3"
    },
    "language_info": {
      "name": "python"
    }
  },
  "nbformat": 4,
  "nbformat_minor": 0
}